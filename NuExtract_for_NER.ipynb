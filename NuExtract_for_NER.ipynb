{
  "nbformat": 4,
  "nbformat_minor": 0,
  "metadata": {
    "colab": {
      "provenance": [],
      "include_colab_link": true
    },
    "kernelspec": {
      "name": "python3",
      "display_name": "Python 3"
    },
    "language_info": {
      "name": "python"
    }
  },
  "cells": [
    {
      "cell_type": "markdown",
      "metadata": {
        "id": "view-in-github",
        "colab_type": "text"
      },
      "source": [
        "<a href=\"https://colab.research.google.com/github/serdarildercaglar/my-colab-notebooks/blob/main/NuExtract_for_NER.ipynb\" target=\"_parent\"><img src=\"https://colab.research.google.com/assets/colab-badge.svg\" alt=\"Open In Colab\"/></a>"
      ]
    },
    {
      "cell_type": "code",
      "source": [
        "!pip install llama-cpp-python"
      ],
      "metadata": {
        "id": "XLtTQE20TxGz"
      },
      "execution_count": null,
      "outputs": []
    },
    {
      "cell_type": "code",
      "source": [
        "from llama_cpp import Llama\n",
        "\n",
        "llm = Llama.from_pretrained(\n",
        "    repo_id=\"RichardErkhov/numind_-_NuExtract-tiny-v1.5-gguf\",\n",
        "    filename=\"*NuExtract-tiny-v1.5.Q5_K_M.gguf\",\n",
        "    verbose=False\n",
        ")"
      ],
      "metadata": {
        "id": "ynHxn9aRT3fL"
      },
      "execution_count": null,
      "outputs": []
    },
    {
      "cell_type": "code",
      "source": [
        "import json\n",
        "\n",
        "def predict(llm, texts, entities, batch_size=1, max_length=10_000, max_new_tokens=4_000):\n",
        "    # Create template dictionary with entities as keys and empty lists as values\n",
        "    template_dict = {entity: [] for entity in entities}\n",
        "\n",
        "    # Convert to JSON string with proper formatting\n",
        "    template = json.dumps(template_dict, indent=4)\n",
        "\n",
        "    # Create prompts using the template\n",
        "    prompts = [\n",
        "        f\"\"\"<|input|>\\n### Template:\\n{template}\\n### Text:\\n{text}\\n\\n<|output|>\"\"\"\n",
        "        for text in texts\n",
        "    ]\n",
        "\n",
        "    outputs = []\n",
        "    for i in range(0, len(prompts), batch_size):\n",
        "        output = llm(\n",
        "            prompts[i],\n",
        "            max_tokens=max_new_tokens,\n",
        "            echo=True\n",
        "        )\n",
        "        json_str = output[\"choices\"][0][\"text\"].split(\"<|output|>\")[1]\n",
        "        entities_dict = json.loads(json_str)\n",
        "        output_entities = []\n",
        "        for label, entities in entities_dict.items():\n",
        "            for entity in entities:\n",
        "                start = text.find(entity)\n",
        "                end = start + len(entity)\n",
        "                output_entities.append({\"label\": label, \"text\": entity, \"start\": start, \"end\": end})\n",
        "        outputs.append(output_entities)\n",
        "    return outputs\n",
        "\n",
        "text = \"\"\"Libretto by Marius Petipa, based on the 1822 novella \"Trilby, ou Le Lutin d'Argail\" by Charles Nodier, first presented by the Ballet of the Moscow Imperial Bolshoi Theatre on January 25/February 6 (Julian/Gregorian calendar dates), 1870, in Moscow with Polina Karpakova as Trilby and Ludiia Geiten as Miranda and restaged by Petipa for the Imperial Ballet at the Imperial Bolshoi Kamenny Theatre on January 17–29, 1871 in St. Petersburg with Adèle Grantzow as Trilby and Lev Ivanov as Count Leopold.\"\"\"\n",
        "entities = [\"person\", \"book\", \"location\", \"date\", \"female actor\", \"male actor\", \"character\"]\n",
        "predict(llm, [text], entities)\n"
      ],
      "metadata": {
        "colab": {
          "base_uri": "https://localhost:8080/"
        },
        "id": "hCCLKxXdW3Xm",
        "outputId": "944b7ad4-2c8b-4b6b-c00d-a0f2526589f3"
      },
      "execution_count": null,
      "outputs": [
        {
          "output_type": "execute_result",
          "data": {
            "text/plain": [
              "[[{'label': 'person', 'text': 'Polina Karpakova', 'start': 253, 'end': 269},\n",
              "  {'label': 'person', 'text': 'Ludiia Geiten', 'start': 284, 'end': 297},\n",
              "  {'label': 'person', 'text': 'Adélét Grantzow', 'start': -1, 'end': 14},\n",
              "  {'label': 'person', 'text': 'Lev Ivanov', 'start': 471, 'end': 481},\n",
              "  {'label': 'book',\n",
              "   'text': \"Trilby, ou Le Lutin d'Argail\",\n",
              "   'start': 54,\n",
              "   'end': 82},\n",
              "  {'label': 'book',\n",
              "   'text': 'Libretto by Marius Petipa',\n",
              "   'start': 0,\n",
              "   'end': 25},\n",
              "  {'label': 'location', 'text': 'Moscow', 'start': 140, 'end': 146},\n",
              "  {'label': 'location', 'text': 'St. Petersburg', 'start': 422, 'end': 436},\n",
              "  {'label': 'date',\n",
              "   'text': 'January 25/February 6 (Julian/Gregorian calendar dates)',\n",
              "   'start': 175,\n",
              "   'end': 230},\n",
              "  {'label': 'date',\n",
              "   'text': 'January 17–29, 1871 in St. Petersburg',\n",
              "   'start': 399,\n",
              "   'end': 436},\n",
              "  {'label': 'female actor',\n",
              "   'text': 'Polina Karpakova',\n",
              "   'start': 253,\n",
              "   'end': 269},\n",
              "  {'label': 'female actor', 'text': 'Ludiia Geiten', 'start': 284, 'end': 297},\n",
              "  {'label': 'male actor', 'text': 'Adélét Grantzow', 'start': -1, 'end': 14},\n",
              "  {'label': 'male actor', 'text': 'Lev Ivanov', 'start': 471, 'end': 481},\n",
              "  {'label': 'character', 'text': 'Trilby', 'start': 54, 'end': 60},\n",
              "  {'label': 'character', 'text': 'Miranda', 'start': 301, 'end': 308}]]"
            ]
          },
          "metadata": {},
          "execution_count": 17
        }
      ]
    }
  ]
}